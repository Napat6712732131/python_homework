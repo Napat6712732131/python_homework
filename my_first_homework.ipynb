{
 "cells": [
  {
   "cell_type": "markdown",
   "id": "97524149-f762-4acb-801e-1a2c2d305028",
   "metadata": {},
   "source": [
    "นายณภัทร สมาน\n",
    "\n",
    "เลขที่6712732131"
   ]
  },
  {
   "cell_type": "code",
   "execution_count": 1,
   "id": "7e6f7351-4135-4c10-97ec-11f41730f76c",
   "metadata": {},
   "outputs": [
    {
     "name": "stdout",
     "output_type": "stream",
     "text": [
      "Hellu_warudo\n"
     ]
    }
   ],
   "source": [
    "print (\"Hellu_warudo\")"
   ]
  },
  {
   "cell_type": "code",
   "execution_count": null,
   "id": "1e6cfb6c-25d3-4bf5-aaca-ef15165d8757",
   "metadata": {},
   "outputs": [],
   "source": []
  }
 ],
 "metadata": {
  "kernelspec": {
   "display_name": "Python 3 (ipykernel)",
   "language": "python",
   "name": "python3"
  },
  "language_info": {
   "codemirror_mode": {
    "name": "ipython",
    "version": 3
   },
   "file_extension": ".py",
   "mimetype": "text/x-python",
   "name": "python",
   "nbconvert_exporter": "python",
   "pygments_lexer": "ipython3",
   "version": "3.13.0"
  }
 },
 "nbformat": 4,
 "nbformat_minor": 5
}
